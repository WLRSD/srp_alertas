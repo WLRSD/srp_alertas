{
 "cells": [
  {
   "cell_type": "code",
   "execution_count": 3,
   "id": "c3d566ad-79af-4c3a-8ef9-1c68114c4ced",
   "metadata": {},
   "outputs": [],
   "source": [
    "## Busca registros da tabela criada pelo formulário\n",
    "\n",
    "import sqlite3\n",
    "import pandas as pd\n",
    "\n",
    "# Conectar ao banco de dados\n",
    "conn = sqlite3.connect(\"dados.db\")\n",
    "cursor2 = conn.cursor()\n",
    "\n",
    "# Buscar todos os registros\n",
    "cursor2.execute(\"SELECT * FROM users\")\n",
    "\n",
    "nomes_colunas = [desc[0] for desc in cursor2.description]\n",
    "\n",
    "dados = cursor2.fetchall()  # Lista de tuplas com os dados\n",
    "\n",
    "dfForm = pd.DataFrame(dados, columns=nomes_colunas)\n",
    "\n",
    "# Fechar conexão\n",
    "conn.close()\n"
   ]
  },
  {
   "cell_type": "code",
   "execution_count": 4,
   "id": "91a09adb-d87b-470d-b66f-325a7712f6d9",
   "metadata": {},
   "outputs": [],
   "source": [
    "## Busca dados de Faturamento (cl_faturamento (cópia local))\n",
    "con = sqlite3.connect(\"fat.db\")  # Conexão personalizada\n",
    "cursor = con.cursor()  # Criando o cursor\n",
    "\n",
    "    # Executar a consulta SQL\n",
    "cursor.execute(\"SELECT * FROM cl_faturamento_cp\")\n",
    "\n",
    "    # Obter os nomes das colunas\n",
    "nomes_colunas = [desc[0] for desc in cursor.description]\n",
    "\n",
    "    # Criar um DataFrame com os resultados\n",
    "dfFat = pd.DataFrame(cursor.fetchall(), columns=nomes_colunas)\n",
    "\n",
    "    # Fechar a conexão\n",
    "cursor.close()\n",
    "con.close()"
   ]
  },
  {
   "cell_type": "code",
   "execution_count": 5,
   "id": "005492d3-4e02-42b8-8683-b81ccfec1bbf",
   "metadata": {},
   "outputs": [],
   "source": [
    "#Cria Consulta para buscar dados na cl_faturamento_cp\n",
    "import sqlite3\n",
    "import pandas as pd\n",
    "\n",
    "def busca_dados(sql):\n",
    "    # Conectar ao banco de dados usando handler_dl\n",
    "    con = sqlite3.connect(\"fat.db\")  # Conexão personalizada\n",
    "    cursor = con.cursor()  # Criando o cursor\n",
    "\n",
    "    # Executar a consulta SQL\n",
    "    cursor.execute(sql)\n",
    "\n",
    "    # Obter os nomes das colunas\n",
    "    nomes_colunas = [desc[0] for desc in cursor.description]\n",
    "\n",
    "    # Criar um DataFrame com os resultados\n",
    "    dfFat2 = pd.DataFrame(cursor.fetchall(), columns=nomes_colunas)\n",
    "\n",
    "    # Fechar a conexão\n",
    "    cursor.close()\n",
    "    con.close()\n",
    "\n",
    "    return dfFat2  # Retornar o DataFrame"
   ]
  },
  {
   "cell_type": "code",
   "execution_count": 6,
   "id": "ef0d96e5-23ee-437c-bc50-5d73a532e4d9",
   "metadata": {},
   "outputs": [],
   "source": [
    "# Função que cria consulta a ser feita no banco\n",
    "def roda_consulta(assunto_alerta, tipo_alerta, valor, dt_alerta, produto):\n",
    "    if not dt_alerta:  # Verifica se 'dt_alerta' está vazio ou None\n",
    "        if assunto_alerta == \"Faturamento(Valor Bruto)\":\n",
    "            if produto:\n",
    "                sql_query = f\"SELECT sum(vl_bruto) as total FROM cl_faturamento_cp WHERE cd_ano=2025 and nm_produto_servico = '{produto}';\"\n",
    "            else:\n",
    "                sql_query = \"SELECT sum(vl_bruto) as total FROM cl_faturamento_cp WHERE cd_ano=2025\"\n",
    "        elif assunto_alerta == \"Faturamento(Valor Liquido)\": \n",
    "            if produto:\n",
    "                sql_query = f\"SELECT sum(vl_liquido) as total FROM cl_faturamento_cp WHERE cd_ano=2025 and nm_produto_servico = '{produto}';\"\n",
    "            else:\n",
    "                sql_query = \"SELECT sum(vl_liquido) as total FROM cl_faturamento_cp WHERE cd_ano=2025\"\n",
    "        else:\n",
    "            return None # Retorna None se não houver um caso correspondente\n",
    "\n",
    "        return busca_dados(sql_query)\n",
    "    else:\n",
    "        return pd.DataFrame({\"total\": [0]})"
   ]
  },
  {
   "cell_type": "code",
   "execution_count": 8,
   "id": "9ee31083-c64c-4eb9-b68b-3436a7d85061",
   "metadata": {},
   "outputs": [
    {
     "ename": "ValueError",
     "evalue": "No objects to concatenate",
     "output_type": "error",
     "traceback": [
      "\u001b[31m---------------------------------------------------------------------------\u001b[39m",
      "\u001b[31mValueError\u001b[39m                                Traceback (most recent call last)",
      "\u001b[36mCell\u001b[39m\u001b[36m \u001b[39m\u001b[32mIn[8]\u001b[39m\u001b[32m, line 15\u001b[39m\n\u001b[32m     12\u001b[39m     resultados.append(dados2)\n\u001b[32m     14\u001b[39m \u001b[38;5;66;03m# Concatenando todos os resultados em um único DataFrame\u001b[39;00m\n\u001b[32m---> \u001b[39m\u001b[32m15\u001b[39m df_final = \u001b[43mpd\u001b[49m\u001b[43m.\u001b[49m\u001b[43mconcat\u001b[49m\u001b[43m(\u001b[49m\u001b[43mresultados\u001b[49m\u001b[43m,\u001b[49m\u001b[43m \u001b[49m\u001b[43mignore_index\u001b[49m\u001b[43m=\u001b[49m\u001b[38;5;28;43;01mTrue\u001b[39;49;00m\u001b[43m)\u001b[49m\n",
      "\u001b[36mFile \u001b[39m\u001b[32m~\\AppData\\Local\\Programs\\Python\\Python312\\Lib\\site-packages\\pandas\\core\\reshape\\concat.py:380\u001b[39m, in \u001b[36mconcat\u001b[39m\u001b[34m(objs, axis, join, ignore_index, keys, levels, names, verify_integrity, sort, copy)\u001b[39m\n\u001b[32m    377\u001b[39m \u001b[38;5;28;01melif\u001b[39;00m copy \u001b[38;5;129;01mand\u001b[39;00m using_copy_on_write():\n\u001b[32m    378\u001b[39m     copy = \u001b[38;5;28;01mFalse\u001b[39;00m\n\u001b[32m--> \u001b[39m\u001b[32m380\u001b[39m op = \u001b[43m_Concatenator\u001b[49m\u001b[43m(\u001b[49m\n\u001b[32m    381\u001b[39m \u001b[43m    \u001b[49m\u001b[43mobjs\u001b[49m\u001b[43m,\u001b[49m\n\u001b[32m    382\u001b[39m \u001b[43m    \u001b[49m\u001b[43maxis\u001b[49m\u001b[43m=\u001b[49m\u001b[43maxis\u001b[49m\u001b[43m,\u001b[49m\n\u001b[32m    383\u001b[39m \u001b[43m    \u001b[49m\u001b[43mignore_index\u001b[49m\u001b[43m=\u001b[49m\u001b[43mignore_index\u001b[49m\u001b[43m,\u001b[49m\n\u001b[32m    384\u001b[39m \u001b[43m    \u001b[49m\u001b[43mjoin\u001b[49m\u001b[43m=\u001b[49m\u001b[43mjoin\u001b[49m\u001b[43m,\u001b[49m\n\u001b[32m    385\u001b[39m \u001b[43m    \u001b[49m\u001b[43mkeys\u001b[49m\u001b[43m=\u001b[49m\u001b[43mkeys\u001b[49m\u001b[43m,\u001b[49m\n\u001b[32m    386\u001b[39m \u001b[43m    \u001b[49m\u001b[43mlevels\u001b[49m\u001b[43m=\u001b[49m\u001b[43mlevels\u001b[49m\u001b[43m,\u001b[49m\n\u001b[32m    387\u001b[39m \u001b[43m    \u001b[49m\u001b[43mnames\u001b[49m\u001b[43m=\u001b[49m\u001b[43mnames\u001b[49m\u001b[43m,\u001b[49m\n\u001b[32m    388\u001b[39m \u001b[43m    \u001b[49m\u001b[43mverify_integrity\u001b[49m\u001b[43m=\u001b[49m\u001b[43mverify_integrity\u001b[49m\u001b[43m,\u001b[49m\n\u001b[32m    389\u001b[39m \u001b[43m    \u001b[49m\u001b[43mcopy\u001b[49m\u001b[43m=\u001b[49m\u001b[43mcopy\u001b[49m\u001b[43m,\u001b[49m\n\u001b[32m    390\u001b[39m \u001b[43m    \u001b[49m\u001b[43msort\u001b[49m\u001b[43m=\u001b[49m\u001b[43msort\u001b[49m\u001b[43m,\u001b[49m\n\u001b[32m    391\u001b[39m \u001b[43m\u001b[49m\u001b[43m)\u001b[49m\n\u001b[32m    393\u001b[39m \u001b[38;5;28;01mreturn\u001b[39;00m op.get_result()\n",
      "\u001b[36mFile \u001b[39m\u001b[32m~\\AppData\\Local\\Programs\\Python\\Python312\\Lib\\site-packages\\pandas\\core\\reshape\\concat.py:443\u001b[39m, in \u001b[36m_Concatenator.__init__\u001b[39m\u001b[34m(self, objs, axis, join, keys, levels, names, ignore_index, verify_integrity, copy, sort)\u001b[39m\n\u001b[32m    440\u001b[39m \u001b[38;5;28mself\u001b[39m.verify_integrity = verify_integrity\n\u001b[32m    441\u001b[39m \u001b[38;5;28mself\u001b[39m.copy = copy\n\u001b[32m--> \u001b[39m\u001b[32m443\u001b[39m objs, keys = \u001b[38;5;28;43mself\u001b[39;49m\u001b[43m.\u001b[49m\u001b[43m_clean_keys_and_objs\u001b[49m\u001b[43m(\u001b[49m\u001b[43mobjs\u001b[49m\u001b[43m,\u001b[49m\u001b[43m \u001b[49m\u001b[43mkeys\u001b[49m\u001b[43m)\u001b[49m\n\u001b[32m    445\u001b[39m \u001b[38;5;66;03m# figure out what our result ndim is going to be\u001b[39;00m\n\u001b[32m    446\u001b[39m ndims = \u001b[38;5;28mself\u001b[39m._get_ndims(objs)\n",
      "\u001b[36mFile \u001b[39m\u001b[32m~\\AppData\\Local\\Programs\\Python\\Python312\\Lib\\site-packages\\pandas\\core\\reshape\\concat.py:505\u001b[39m, in \u001b[36m_Concatenator._clean_keys_and_objs\u001b[39m\u001b[34m(self, objs, keys)\u001b[39m\n\u001b[32m    502\u001b[39m     objs_list = \u001b[38;5;28mlist\u001b[39m(objs)\n\u001b[32m    504\u001b[39m \u001b[38;5;28;01mif\u001b[39;00m \u001b[38;5;28mlen\u001b[39m(objs_list) == \u001b[32m0\u001b[39m:\n\u001b[32m--> \u001b[39m\u001b[32m505\u001b[39m     \u001b[38;5;28;01mraise\u001b[39;00m \u001b[38;5;167;01mValueError\u001b[39;00m(\u001b[33m\"\u001b[39m\u001b[33mNo objects to concatenate\u001b[39m\u001b[33m\"\u001b[39m)\n\u001b[32m    507\u001b[39m \u001b[38;5;28;01mif\u001b[39;00m keys \u001b[38;5;129;01mis\u001b[39;00m \u001b[38;5;28;01mNone\u001b[39;00m:\n\u001b[32m    508\u001b[39m     objs_list = \u001b[38;5;28mlist\u001b[39m(com.not_none(*objs_list))\n",
      "\u001b[31mValueError\u001b[39m: No objects to concatenate"
     ]
    }
   ],
   "source": [
    "#Armazena os resultados das consultas em um dataframe\n",
    "resultados = []  # Lista para armazenar os resultados\n",
    "\n",
    "for b in range(len(dfForm['assunto_alerta'])):\n",
    "    assunto_alerta = dfForm['assunto_alerta'][b]\n",
    "    tipo_alerta = dfForm['tipo_alerta'][b]\n",
    "    valor = dfForm['valor'][b]\n",
    "    dt_alerta = dfForm['dt_alerta'][b]\n",
    "    produto = dfForm['produto'][b]\n",
    "    dados2 = roda_consulta(assunto_alerta, tipo_alerta, valor, dt_alerta, produto) \n",
    "    print(type(dados2)) \n",
    "    resultados.append(dados2)\n",
    "\n",
    "# Concatenando todos os resultados em um único DataFrame\n",
    "df_final = pd.concat(resultados, ignore_index=True)"
   ]
  },
  {
   "cell_type": "code",
   "execution_count": null,
   "id": "0854858b-ec76-4879-ac89-0353bd127118",
   "metadata": {},
   "outputs": [],
   "source": []
  }
 ],
 "metadata": {
  "kernelspec": {
   "display_name": "Python 3 (ipykernel)",
   "language": "python",
   "name": "python3"
  },
  "language_info": {
   "codemirror_mode": {
    "name": "ipython",
    "version": 3
   },
   "file_extension": ".py",
   "mimetype": "text/x-python",
   "name": "python",
   "nbconvert_exporter": "python",
   "pygments_lexer": "ipython3",
   "version": "3.12.6"
  }
 },
 "nbformat": 4,
 "nbformat_minor": 5
}
